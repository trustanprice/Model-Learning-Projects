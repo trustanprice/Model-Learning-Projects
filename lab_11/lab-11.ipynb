{
 "cells": [
  {
   "cell_type": "markdown",
   "metadata": {},
   "source": [
    "# Lab 11: Fashion"
   ]
  },
  {
   "cell_type": "markdown",
   "metadata": {},
   "source": [
    "---\n",
    "embed-resources: true\n",
    "---"
   ]
  },
  {
   "cell_type": "markdown",
   "metadata": {},
   "source": [
    "## Introduction"
   ]
  },
  {
   "cell_type": "markdown",
   "metadata": {},
   "source": [
    "This report presents the development of a Convolutional Neural Network model designed to classify grayscale images of clothing items using the FashionMNIST dataset. FashionMNIST is a well-known benchmark dataset containing 70,000 labeled images across ten fashion categories, such as shirts, sneakers, and coats. Each image is 28×28 pixels in size and assigned a class label from 0 to 9, making it suitable for multiclass image classification tasks. The primary objective of this project is to train a deep learning model that can accurately predict the correct clothing category for each image.\n",
    "\n",
    "The model was implemented using PyTorch and trained with data augmentation techniques to improve generalization. Key performance metrics such as accuracy and average loss were tracked across 15 training epochs, and model predictions were evaluated using a confusion matrix. Exploratory data analysis was conducted to understand class distributions, image structure, and pixel intensity characteristics. This report details the preprocessing steps, CNN architecture, training process, and performance evaluation, followed by a discussion of limitations, risks, and potential improvements for future applications."
   ]
  },
  {
   "cell_type": "markdown",
   "metadata": {},
   "source": [
    "## Methods"
   ]
  },
  {
   "cell_type": "code",
   "execution_count": 150,
   "metadata": {},
   "outputs": [],
   "source": [
    "# ignore warnings\n",
    "import warnings\n",
    "warnings.filterwarnings(\"ignore\", category=UserWarning)"
   ]
  },
  {
   "cell_type": "code",
   "execution_count": 151,
   "metadata": {},
   "outputs": [],
   "source": [
    "# PyTorch core\n",
    "import torch\n",
    "from torch import nn\n",
    "from torch.utils.data import DataLoader\n",
    "\n",
    "# TorchVision datasets and transforms\n",
    "from torchvision import datasets, transforms\n",
    "from torchvision.transforms import ToTensor\n",
    "\n",
    "# NumPy\n",
    "import numpy as np\n",
    "\n",
    "# Matplotlib for plots\n",
    "import matplotlib.pyplot as plt\n",
    "\n",
    "# Scikit-learn metrics\n",
    "from sklearn.metrics import accuracy_score, confusion_matrix, ConfusionMatrixDisplay\n",
    "\n",
    "# Other utilities\n",
    "import random\n",
    "from collections import Counter\n"
   ]
  },
  {
   "cell_type": "markdown",
   "metadata": {},
   "source": [
    "### Data"
   ]
  },
  {
   "cell_type": "code",
   "execution_count": 152,
   "metadata": {},
   "outputs": [],
   "source": [
    "# load data\n",
    "training_data = datasets.FashionMNIST(\n",
    "    root=\"data\",\n",
    "    train=True,\n",
    "    download=True,\n",
    "    transform=ToTensor(),\n",
    ")\n",
    "\n",
    "test_data = datasets.FashionMNIST(\n",
    "    root=\"data\",\n",
    "    train=False,\n",
    "    download=True,\n",
    "    transform=ToTensor(),\n",
    ")"
   ]
  },
  {
   "cell_type": "code",
   "execution_count": 153,
   "metadata": {},
   "outputs": [],
   "source": [
    "class_names = [\n",
    "    \"T-shirt/top\", \"Trouser\", \"Pullover\", \"Dress\", \"Coat\",\n",
    "    \"Sandal\", \"Shirt\", \"Sneaker\", \"Bag\", \"Ankle boot\"\n",
    "]"
   ]
  },
  {
   "cell_type": "code",
   "execution_count": 154,
   "metadata": {},
   "outputs": [
    {
     "data": {
      "text/plain": [
       "Dataset FashionMNIST\n",
       "    Number of datapoints: 60000\n",
       "    Root location: data\n",
       "    Split: Train\n",
       "    StandardTransform\n",
       "Transform: ToTensor()"
      ]
     },
     "execution_count": 154,
     "metadata": {},
     "output_type": "execute_result"
    }
   ],
   "source": [
    "training_data"
   ]
  },
  {
   "cell_type": "code",
   "execution_count": 155,
   "metadata": {},
   "outputs": [
    {
     "name": "stdout",
     "output_type": "stream",
     "text": [
      "# Samples: 60000\n",
      "Horizontal Pixels per Image: 28\n",
      "Vertical Pixels per Image: 28\n"
     ]
    }
   ],
   "source": [
    "n = len(training_data)\n",
    "\n",
    "sample_image, _ = training_data[0]\n",
    "height, width = sample_image.shape[1], sample_image.shape[2]\n",
    "\n",
    "print(f\"# Samples: {n}\")\n",
    "print(f\"Horizontal Pixels per Image: {width}\")\n",
    "print(f\"Vertical Pixels per Image: {height}\")"
   ]
  },
  {
   "cell_type": "code",
   "execution_count": 156,
   "metadata": {},
   "outputs": [
    {
     "name": "stdout",
     "output_type": "stream",
     "text": [
      "Using mps device!\n"
     ]
    }
   ],
   "source": [
    "if torch.cuda.is_available():\n",
    "    device = \"cuda\"\n",
    "elif torch.backends.mps.is_available():\n",
    "    device = \"mps\"\n",
    "else:\n",
    "    device = \"cpu\"\n",
    "\n",
    "print(f\"Using {device} device!\")"
   ]
  },
  {
   "cell_type": "markdown",
   "metadata": {},
   "source": [
    "### Dataset Description\n",
    "\n",
    "#### Response\n",
    "\n",
    "- `label` [int64]: The clothing category for each 28×28 grayscale image, represented as an integer from 0 to 9.\n",
    "\n",
    "| Label | Class Name     |\n",
    "|-------|----------------|\n",
    "| 0     | T-shirt/top    |\n",
    "| 1     | Trouser        |\n",
    "| 2     | Pullover       |\n",
    "| 3     | Dress          |\n",
    "| 4     | Coat           |\n",
    "| 5     | Sandal         |\n",
    "| 6     | Shirt          |\n",
    "| 7     | Sneaker        |\n",
    "| 8     | Bag            |\n",
    "| 9     | Ankle boot     |\n",
    "\n",
    "\n",
    "#### Features\n",
    "\n",
    "Each sample in the dataset consists of a single **grayscale image** of a clothing item, with the following properties:\n",
    "\n",
    "##### Image Pixel Data\n",
    "\n",
    "These are the raw pixel values for each image, used as the feature input to models.\n",
    "\n",
    "- `image` [tensor]: A 1×28×28 grayscale tensor representing the clothing item. Pixel values are normalized between 0 and 1 using `ToTensor()`.\n",
    "\n",
    "\n",
    "#### Other Metadata\n",
    "\n",
    "Although FashionMNIST does not contain additional metadata like some datasets, the structure supports the following:\n",
    "\n",
    "- **Image dimensions**: 28 pixels (height) × 28 pixels (width).\n",
    "- **Color channels**: 1 (grayscale).\n",
    "- **Dataset split**:\n",
    "  - Training: 60,000 images\n",
    "  - Test: 10,000 images\n"
   ]
  },
  {
   "cell_type": "markdown",
   "metadata": {},
   "source": [
    "### Summary Statistics"
   ]
  },
  {
   "cell_type": "code",
   "execution_count": 157,
   "metadata": {},
   "outputs": [
    {
     "name": "stdout",
     "output_type": "stream",
     "text": [
      "Class distribution: Counter({9: 6000, 0: 6000, 3: 6000, 2: 6000, 7: 6000, 5: 6000, 1: 6000, 6: 6000, 4: 6000, 8: 6000})\n"
     ]
    }
   ],
   "source": [
    "labels = [label for _, label in training_data]\n",
    "class_counts = Counter(labels)\n",
    "\n",
    "print(\"Class distribution:\", class_counts)"
   ]
  },
  {
   "cell_type": "markdown",
   "metadata": {},
   "source": [
    "The class distribution shows that the FashionMNIST training dataset is mostly perfectly balanced, with 6,000 examples per class. This design is intentional, as FashionMNIST is meant to serve as a standardized practice dataset for students and researchers. In real-world applications, such perfect balance is rare, and additional steps are often needed to handle class imbalance."
   ]
  },
  {
   "cell_type": "code",
   "execution_count": 158,
   "metadata": {},
   "outputs": [
    {
     "name": "stdout",
     "output_type": "stream",
     "text": [
      "Pixel Mean: 0.2860\n",
      "Pixel Std Dev: 0.3530\n"
     ]
    }
   ],
   "source": [
    "all_pixels = torch.cat([img.view(-1) for img, _ in training_data])\n",
    "\n",
    "print(f\"Pixel Mean: {all_pixels.mean():.4f}\")\n",
    "print(f\"Pixel Std Dev: {all_pixels.std():.4f}\")"
   ]
  },
  {
   "cell_type": "markdown",
   "metadata": {},
   "source": [
    "The pixel mean of 0.2860 indicates that, on average, the images are relatively dark since pixel values range from 0 (black) to 1 (white). The standard deviation of 0.3530 suggests a moderate spread in pixel intensities, meaning there is decent contrast between light and dark areas in the images. These values are useful for normalizing the data, which can help improve model convergence during training."
   ]
  },
  {
   "cell_type": "code",
   "execution_count": 159,
   "metadata": {},
   "outputs": [
    {
     "name": "stdout",
     "output_type": "stream",
     "text": [
      "Unique image shapes: {torch.Size([1, 28, 28])}\n"
     ]
    }
   ],
   "source": [
    "shapes = [img.shape for img, _ in training_data]\n",
    "unique_shapes = set(shapes)\n",
    "\n",
    "print(\"Unique image shapes:\", unique_shapes)"
   ]
  },
  {
   "cell_type": "markdown",
   "metadata": {},
   "source": [
    "The output confirms that all images in the dataset have a consistent shape of 1×28×28, representing grayscale images with a single channel and dimensions of 28 by 28 pixels. This uniformity ensures that the data can be processed in batches without reshaping, which is essential for feeding the images into a neural network."
   ]
  },
  {
   "cell_type": "markdown",
   "metadata": {},
   "source": [
    "### Exploratory Visualization"
   ]
  },
  {
   "cell_type": "code",
   "execution_count": 163,
   "metadata": {},
   "outputs": [
    {
     "data": {
      "image/png": "[encoded data removed]",
      "text/plain": [
       "<Figure size 640x480 with 1 Axes>"
      ]
     },
     "metadata": {},
     "output_type": "display_data"
    }
   ],
   "source": [
    "plt.bar(class_counts.keys(), class_counts.values())\n",
    "plt.xticks(ticks=range(10), labels=[\n",
    "    \"T-shirt\", \"Trouser\", \"Pullover\", \"Dress\", \"Coat\",\n",
    "    \"Sandal\", \"Shirt\", \"Sneaker\", \"Bag\", \"Boot\"\n",
    "], rotation=45)\n",
    "plt.title(\"Class Distribution\")\n",
    "plt.ylabel(\"Count\")\n",
    "plt.show()"
   ]
  },
  {
   "cell_type": "markdown",
   "metadata": {},
   "source": [
    "This bar chart visually confirms that the FashionMNIST dataset is perfectly balanced, with each clothing class having the same number of samples. All bars reach the same height, indicating an equal distribution of 6,000 examples per class. This reinforces that no class is over- or underrepresented, which is ideal for training unbiased classification models."
   ]
  },
  {
   "cell_type": "code",
   "execution_count": 162,
   "metadata": {},
   "outputs": [
    {
     "data": {
      "image/png": "[encoded data removed]",
      "text/plain": [
       "<Figure size 1000x500 with 10 Axes>"
      ]
     },
     "metadata": {},
     "output_type": "display_data"
    }
   ],
   "source": [
    "fig, axes = plt.subplots(2, 5, figsize=(10, 5))\n",
    "for i, ax in enumerate(axes.flatten()):\n",
    "    image, label = training_data[i]\n",
    "    ax.imshow(image.squeeze(), cmap=\"gray\")\n",
    "    ax.set_title(f\"Label: {label}\")\n",
    "    ax.axis(\"off\")\n",
    "plt.suptitle(\"Sample FashionMNIST Images\")\n",
    "plt.show()\n"
   ]
  },
  {
   "cell_type": "markdown",
   "metadata": {},
   "source": [
    "This image grid helps us visualize the actual grayscale clothing images in the FashionMNIST dataset, giving us an intuitive sense of the data's structure, variation, and visual complexity. Each image is labeled with its class, reinforcing that we're dealing with a supervised learning task, since both the input and the output label are provided. This kind of visualization is essential for understanding what features a model might learn."
   ]
  },
  {
   "cell_type": "markdown",
   "metadata": {},
   "source": [
    "### Models"
   ]
  },
  {
   "cell_type": "code",
   "execution_count": 138,
   "metadata": {},
   "outputs": [
    {
     "name": "stdout",
     "output_type": "stream",
     "text": [
      "Shape of X [N, C, H, W]: torch.Size([64, 1, 28, 28])\n",
      "Shape of y: torch.Size([64]) torch.int64\n"
     ]
    }
   ],
   "source": [
    "train_transform = transforms.Compose([\n",
    "    transforms.RandomHorizontalFlip(), \n",
    "    transforms.RandomRotation(10),    \n",
    "    transforms.ToTensor(),              \n",
    "])\n",
    "\n",
    "test_transform = transforms.ToTensor()\n",
    "\n",
    "training_data = datasets.FashionMNIST(\n",
    "    root=\"data\",\n",
    "    train=True,\n",
    "    download=True,\n",
    "    transform=train_transform,\n",
    ")\n",
    "\n",
    "test_data = datasets.FashionMNIST(\n",
    "    root=\"data\",\n",
    "    train=False,\n",
    "    download=True,\n",
    "    transform=test_transform, \n",
    ")\n",
    "\n",
    "batch_size = 64\n",
    "\n",
    "train_dataloader = DataLoader(\n",
    "    training_data,\n",
    "    batch_size=batch_size,\n",
    "    shuffle=True,\n",
    ")\n",
    "\n",
    "test_dataloader = DataLoader(\n",
    "    test_data,\n",
    "    batch_size=batch_size,\n",
    ")\n",
    "\n",
    "for X, y in test_dataloader:\n",
    "    print(f\"Shape of X [N, C, H, W]: {X.shape}\")\n",
    "    print(f\"Shape of y: {y.shape} {y.dtype}\")\n",
    "    break"
   ]
  },
  {
   "cell_type": "code",
   "execution_count": null,
   "metadata": {},
   "outputs": [
    {
     "name": "stdout",
     "output_type": "stream",
     "text": [
      "CNN(\n",
      "  (conv_stack): Sequential(\n",
      "    (0): Conv2d(1, 32, kernel_size=(3, 3), stride=(1, 1), padding=(1, 1))\n",
      "    (1): ReLU()\n",
      "    (2): MaxPool2d(kernel_size=2, stride=2, padding=0, dilation=1, ceil_mode=False)\n",
      "    (3): Conv2d(32, 64, kernel_size=(3, 3), stride=(1, 1), padding=(1, 1))\n",
      "    (4): ReLU()\n",
      "    (5): MaxPool2d(kernel_size=2, stride=2, padding=0, dilation=1, ceil_mode=False)\n",
      "  )\n",
      "  (fc): Sequential(\n",
      "    (0): Flatten(start_dim=1, end_dim=-1)\n",
      "    (1): Linear(in_features=3136, out_features=128, bias=True)\n",
      "    (2): ReLU()\n",
      "    (3): Linear(in_features=128, out_features=10, bias=True)\n",
      "  )\n",
      ")\n"
     ]
    }
   ],
   "source": [
    "class CNN(nn.Module):\n",
    "    def __init__(self):\n",
    "        super().__init__()\n",
    "        self.conv_stack = nn.Sequential(\n",
    "            nn.Conv2d(1, 32, kernel_size=3, padding=1),\n",
    "            nn.ReLU(),\n",
    "            nn.MaxPool2d(2),\n",
    "\n",
    "            nn.Conv2d(32, 64, kernel_size=3, padding=1),\n",
    "            nn.ReLU(),\n",
    "            nn.MaxPool2d(2),\n",
    "        )\n",
    "        self.fc = nn.Sequential(\n",
    "            nn.Flatten(),\n",
    "            nn.Linear(64 * 7 * 7, 128),\n",
    "            nn.ReLU(),\n",
    "            nn.Linear(128, 10),\n",
    "        )\n",
    "\n",
    "    def forward(self, x):\n",
    "        x = self.conv_stack(x)\n",
    "        x = self.fc(x)\n",
    "        return x\n",
    "    \n",
    "model = CNN().to(device)\n",
    "\n",
    "print(model)"
   ]
  },
  {
   "cell_type": "code",
   "execution_count": 140,
   "metadata": {},
   "outputs": [],
   "source": [
    "# Define loss function and optimizer\n",
    "loss_fn = nn.CrossEntropyLoss()\n",
    "\n",
    "# define cnn optimizer\n",
    "optimizer = torch.optim.Adam(\n",
    "    model.parameters(),\n",
    "    lr=0.001,\n",
    ")"
   ]
  },
  {
   "cell_type": "code",
   "execution_count": 141,
   "metadata": {},
   "outputs": [],
   "source": [
    "# Training loop\n",
    "def train(dataloader, model, loss_fn, optimizer):\n",
    "    size = len(dataloader.dataset)\n",
    "    model.train()\n",
    "    for batch, (X, y) in enumerate(dataloader):\n",
    "        X, y = X.to(device), y.to(device)\n",
    "\n",
    "        # Forward pass\n",
    "        pred = model(X)\n",
    "        loss = loss_fn(pred, y)\n",
    "\n",
    "        # Backpropagation\n",
    "        loss.backward()\n",
    "        optimizer.step()\n",
    "        optimizer.zero_grad()\n",
    "\n",
    "        if batch % 100 == 0:\n",
    "            loss_val, current = loss.item(), (batch + 1) * len(X)\n",
    "            print(f\"loss: {loss_val:>7f}  [{current:>5d}/{size:>5d}]\")"
   ]
  },
  {
   "cell_type": "code",
   "execution_count": 142,
   "metadata": {},
   "outputs": [],
   "source": [
    "# Testing loop\n",
    "def test(dataloader, model, loss_fn):\n",
    "    size = len(dataloader.dataset)\n",
    "    num_batches = len(dataloader)\n",
    "    model.eval()\n",
    "    test_loss, correct = 0, 0\n",
    "\n",
    "    with torch.no_grad():\n",
    "        for X, y in dataloader:\n",
    "            X, y = X.to(device), y.to(device)\n",
    "            pred = model(X)\n",
    "            test_loss += loss_fn(pred, y).item()\n",
    "            correct += (pred.argmax(1) == y).type(torch.float).sum().item()\n",
    "\n",
    "    test_loss /= num_batches\n",
    "    accuracy = 100 * correct / size\n",
    "    print(f\"Test Error: \\n Accuracy: {accuracy:>0.1f}%, Avg loss: {test_loss:>8f} \\n\")\n"
   ]
  },
  {
   "cell_type": "markdown",
   "metadata": {},
   "source": [
    "## Convolutional Neural Network Pipeline for Fashion Item Classification\n",
    "\n",
    "We implement a Convolutional Neural Network to classify grayscale images of clothing items from the FashionMNIST dataset into one of ten categories. The model is trained end-to-end using PyTorch, incorporating a structured convolutional architecture, data augmentation for generalization, and the Adam optimizer for adaptive gradient descent. The training loop iteratively updates model parameters using cross-entropy loss, and performance is evaluated using test accuracy and average loss.\n",
    "\n",
    "### Preprocessing and Data Augmentation\n",
    "\n",
    "To improve generalization and mimic realistic variability in clothing orientation and pose, we apply the following transformations to training images:\n",
    "- RandomHorizontalFlip: Randomly flips images to simulate left-right mirroring.\n",
    "- RandomRotation: Applies small random rotations to account for tilt and camera angle variation.\n",
    "- ToTensor: Converts PIL images to normalized PyTorch tensors with pixel values in the range [0, 1].\n",
    "\n",
    "The test set is transformed using only ToTensor() to preserve input consistency for evaluation.\n",
    "\n",
    "### Model Architecture\n",
    "\n",
    "The CNN model is composed of two convolutional layers with ReLU activations and max pooling operations to reduce spatial dimensions while capturing important features:\n",
    "- Conv Layer 1: 32 filters, 3×3 kernel, followed by ReLU and 2×2 max pooling.\n",
    "- Conv Layer 2: 64 filters, 3×3 kernel, followed by ReLU and 2×2 max pooling.\n",
    "- Fully Connected Layers: The extracted features are flattened and passed through two dense layers (128 hidden units, then 10 output classes) with ReLU activation on the hidden layer.\n",
    "\n",
    "This architecture effectively extracts spatial hierarchies from the images and maps them to fashion categories.\n",
    "\n",
    "### Training and Optimization\n",
    "\n",
    "- Loss Function: CrossEntropyLoss is used to handle the multiclass classification task.\n",
    "- Optimizer: Adam is chosen for its ability to adaptively adjust learning rates during training, accelerating convergence.\n",
    "- Training Loop: The model is trained for 15 epochs on 60,000 training examples, with mini-batches of size 64.\n",
    "- Test Loop: After each epoch, the model is evaluated on the 10,000-image test set to report accuracy and average loss.\n",
    "\n",
    "### Model Evaluation and Impact\n",
    "\n",
    "This CNN pipeline achieves high classification accuracy on FashionMNIST by combining data augmentation, convolutional layers for feature extraction, and well-tuned optimization. The model generalizes well to unseen clothing images and provides a strong foundation for exploring more complex architectures, such as dropout regularization, batch normalization, or deeper convolutional stacks. Its modular design and consistent results make it well-suited for both educational use and benchmarking classification tasks.\n"
   ]
  },
  {
   "cell_type": "markdown",
   "metadata": {},
   "source": [
    "## Results"
   ]
  },
  {
   "cell_type": "code",
   "execution_count": 143,
   "metadata": {},
   "outputs": [
    {
     "name": "stdout",
     "output_type": "stream",
     "text": [
      "Epoch 1\n",
      "-------------------------------\n",
      "loss: 2.312984  [   64/60000]\n",
      "loss: 0.728085  [ 6464/60000]\n",
      "loss: 0.719777  [12864/60000]\n",
      "loss: 0.534376  [19264/60000]\n",
      "loss: 0.580541  [25664/60000]\n",
      "loss: 0.309246  [32064/60000]\n",
      "loss: 0.580698  [38464/60000]\n",
      "loss: 0.221150  [44864/60000]\n",
      "loss: 0.530481  [51264/60000]\n",
      "loss: 0.426268  [57664/60000]\n",
      "Test Error: \n",
      " Accuracy: 84.9%, Avg loss: 0.404832 \n",
      "\n",
      "Epoch 2\n",
      "-------------------------------\n",
      "loss: 0.395185  [   64/60000]\n",
      "loss: 0.308628  [ 6464/60000]\n",
      "loss: 0.244945  [12864/60000]\n",
      "loss: 0.464641  [19264/60000]\n",
      "loss: 0.369969  [25664/60000]\n",
      "loss: 0.548636  [32064/60000]\n",
      "loss: 0.352259  [38464/60000]\n",
      "loss: 0.390896  [44864/60000]\n",
      "loss: 0.331155  [51264/60000]\n",
      "loss: 0.286616  [57664/60000]\n",
      "Test Error: \n",
      " Accuracy: 88.4%, Avg loss: 0.317856 \n",
      "\n",
      "Epoch 3\n",
      "-------------------------------\n",
      "loss: 0.386643  [   64/60000]\n",
      "loss: 0.259367  [ 6464/60000]\n",
      "loss: 0.283523  [12864/60000]\n",
      "loss: 0.448296  [19264/60000]\n",
      "loss: 0.388356  [25664/60000]\n",
      "loss: 0.215653  [32064/60000]\n",
      "loss: 0.259601  [38464/60000]\n",
      "loss: 0.249261  [44864/60000]\n",
      "loss: 0.294105  [51264/60000]\n",
      "loss: 0.305524  [57664/60000]\n",
      "Test Error: \n",
      " Accuracy: 89.1%, Avg loss: 0.298080 \n",
      "\n",
      "Epoch 4\n",
      "-------------------------------\n",
      "loss: 0.219742  [   64/60000]\n",
      "loss: 0.301051  [ 6464/60000]\n",
      "loss: 0.408737  [12864/60000]\n",
      "loss: 0.159735  [19264/60000]\n",
      "loss: 0.260754  [25664/60000]\n",
      "loss: 0.421403  [32064/60000]\n",
      "loss: 0.346874  [38464/60000]\n",
      "loss: 0.276331  [44864/60000]\n",
      "loss: 0.286020  [51264/60000]\n",
      "loss: 0.291551  [57664/60000]\n",
      "Test Error: \n",
      " Accuracy: 89.5%, Avg loss: 0.291065 \n",
      "\n",
      "Epoch 5\n",
      "-------------------------------\n",
      "loss: 0.500111  [   64/60000]\n",
      "loss: 0.281170  [ 6464/60000]\n",
      "loss: 0.226340  [12864/60000]\n",
      "loss: 0.330231  [19264/60000]\n",
      "loss: 0.199371  [25664/60000]\n",
      "loss: 0.355667  [32064/60000]\n",
      "loss: 0.280702  [38464/60000]\n",
      "loss: 0.176718  [44864/60000]\n",
      "loss: 0.247179  [51264/60000]\n",
      "loss: 0.262320  [57664/60000]\n",
      "Test Error: \n",
      " Accuracy: 89.6%, Avg loss: 0.286854 \n",
      "\n",
      "Epoch 6\n",
      "-------------------------------\n",
      "loss: 0.280605  [   64/60000]\n",
      "loss: 0.110741  [ 6464/60000]\n",
      "loss: 0.210971  [12864/60000]\n",
      "loss: 0.093905  [19264/60000]\n",
      "loss: 0.172475  [25664/60000]\n",
      "loss: 0.258988  [32064/60000]\n",
      "loss: 0.270493  [38464/60000]\n",
      "loss: 0.289743  [44864/60000]\n",
      "loss: 0.184239  [51264/60000]\n",
      "loss: 0.315364  [57664/60000]\n",
      "Test Error: \n",
      " Accuracy: 90.5%, Avg loss: 0.266306 \n",
      "\n",
      "Epoch 7\n",
      "-------------------------------\n",
      "loss: 0.147142  [   64/60000]\n",
      "loss: 0.248414  [ 6464/60000]\n",
      "loss: 0.147483  [12864/60000]\n",
      "loss: 0.214411  [19264/60000]\n",
      "loss: 0.259339  [25664/60000]\n",
      "loss: 0.293078  [32064/60000]\n",
      "loss: 0.314409  [38464/60000]\n",
      "loss: 0.323780  [44864/60000]\n",
      "loss: 0.155331  [51264/60000]\n",
      "loss: 0.197356  [57664/60000]\n",
      "Test Error: \n",
      " Accuracy: 91.1%, Avg loss: 0.242250 \n",
      "\n",
      "Epoch 8\n",
      "-------------------------------\n",
      "loss: 0.237827  [   64/60000]\n",
      "loss: 0.130722  [ 6464/60000]\n",
      "loss: 0.118172  [12864/60000]\n",
      "loss: 0.251980  [19264/60000]\n",
      "loss: 0.166219  [25664/60000]\n",
      "loss: 0.277752  [32064/60000]\n",
      "loss: 0.268755  [38464/60000]\n",
      "loss: 0.159202  [44864/60000]\n",
      "loss: 0.136345  [51264/60000]\n",
      "loss: 0.096731  [57664/60000]\n",
      "Test Error: \n",
      " Accuracy: 91.5%, Avg loss: 0.247127 \n",
      "\n",
      "Epoch 9\n",
      "-------------------------------\n",
      "loss: 0.222560  [   64/60000]\n",
      "loss: 0.204694  [ 6464/60000]\n",
      "loss: 0.193140  [12864/60000]\n",
      "loss: 0.167586  [19264/60000]\n",
      "loss: 0.288891  [25664/60000]\n",
      "loss: 0.186885  [32064/60000]\n",
      "loss: 0.239357  [38464/60000]\n",
      "loss: 0.170587  [44864/60000]\n",
      "loss: 0.130683  [51264/60000]\n",
      "loss: 0.151994  [57664/60000]\n",
      "Test Error: \n",
      " Accuracy: 91.6%, Avg loss: 0.237245 \n",
      "\n",
      "Epoch 10\n",
      "-------------------------------\n",
      "loss: 0.155066  [   64/60000]\n",
      "loss: 0.218288  [ 6464/60000]\n",
      "loss: 0.277467  [12864/60000]\n",
      "loss: 0.156913  [19264/60000]\n",
      "loss: 0.221428  [25664/60000]\n",
      "loss: 0.199108  [32064/60000]\n",
      "loss: 0.268390  [38464/60000]\n",
      "loss: 0.213985  [44864/60000]\n",
      "loss: 0.200464  [51264/60000]\n",
      "loss: 0.148544  [57664/60000]\n",
      "Test Error: \n",
      " Accuracy: 91.4%, Avg loss: 0.239777 \n",
      "\n",
      "Epoch 11\n",
      "-------------------------------\n",
      "loss: 0.158202  [   64/60000]\n",
      "loss: 0.192505  [ 6464/60000]\n",
      "loss: 0.168488  [12864/60000]\n",
      "loss: 0.061984  [19264/60000]\n",
      "loss: 0.162590  [25664/60000]\n",
      "loss: 0.123545  [32064/60000]\n",
      "loss: 0.214786  [38464/60000]\n",
      "loss: 0.260448  [44864/60000]\n",
      "loss: 0.120570  [51264/60000]\n",
      "loss: 0.117405  [57664/60000]\n",
      "Test Error: \n",
      " Accuracy: 92.0%, Avg loss: 0.227695 \n",
      "\n",
      "Epoch 12\n",
      "-------------------------------\n",
      "loss: 0.168805  [   64/60000]\n",
      "loss: 0.137530  [ 6464/60000]\n",
      "loss: 0.172025  [12864/60000]\n",
      "loss: 0.198442  [19264/60000]\n",
      "loss: 0.130972  [25664/60000]\n",
      "loss: 0.339582  [32064/60000]\n",
      "loss: 0.132032  [38464/60000]\n",
      "loss: 0.245410  [44864/60000]\n",
      "loss: 0.168329  [51264/60000]\n",
      "loss: 0.141849  [57664/60000]\n",
      "Test Error: \n",
      " Accuracy: 91.9%, Avg loss: 0.234976 \n",
      "\n",
      "Epoch 13\n",
      "-------------------------------\n",
      "loss: 0.144368  [   64/60000]\n",
      "loss: 0.115624  [ 6464/60000]\n",
      "loss: 0.267459  [12864/60000]\n",
      "loss: 0.179316  [19264/60000]\n",
      "loss: 0.137516  [25664/60000]\n",
      "loss: 0.089766  [32064/60000]\n",
      "loss: 0.218784  [38464/60000]\n",
      "loss: 0.216873  [44864/60000]\n",
      "loss: 0.094378  [51264/60000]\n",
      "loss: 0.183510  [57664/60000]\n",
      "Test Error: \n",
      " Accuracy: 92.2%, Avg loss: 0.228766 \n",
      "\n",
      "Epoch 14\n",
      "-------------------------------\n",
      "loss: 0.209485  [   64/60000]\n",
      "loss: 0.105431  [ 6464/60000]\n",
      "loss: 0.129685  [12864/60000]\n",
      "loss: 0.232365  [19264/60000]\n",
      "loss: 0.195040  [25664/60000]\n",
      "loss: 0.142910  [32064/60000]\n",
      "loss: 0.182719  [38464/60000]\n",
      "loss: 0.212319  [44864/60000]\n",
      "loss: 0.165149  [51264/60000]\n",
      "loss: 0.120599  [57664/60000]\n",
      "Test Error: \n",
      " Accuracy: 91.8%, Avg loss: 0.239295 \n",
      "\n",
      "Epoch 15\n",
      "-------------------------------\n",
      "loss: 0.162786  [   64/60000]\n",
      "loss: 0.063540  [ 6464/60000]\n",
      "loss: 0.163640  [12864/60000]\n",
      "loss: 0.100728  [19264/60000]\n",
      "loss: 0.227199  [25664/60000]\n",
      "loss: 0.193087  [32064/60000]\n",
      "loss: 0.122919  [38464/60000]\n",
      "loss: 0.196180  [44864/60000]\n",
      "loss: 0.129909  [51264/60000]\n",
      "loss: 0.188518  [57664/60000]\n",
      "Test Error: \n",
      " Accuracy: 91.8%, Avg loss: 0.236660 \n",
      "\n",
      "Done!\n"
     ]
    }
   ],
   "source": [
    "# Run training and testing for multiple epochs\n",
    "epochs = 15\n",
    "for t in range(epochs):\n",
    "    print(f\"Epoch {t+1}\\n-------------------------------\")\n",
    "    train(train_dataloader, model, loss_fn, optimizer)\n",
    "    test(test_dataloader, model, loss_fn)\n",
    "\n",
    "print(\"Done!\")"
   ]
  },
  {
   "cell_type": "markdown",
   "metadata": {},
   "source": [
    "This output shows the progress of the model's training and evaluation over 15 epochs, where an epoch refers to one complete pass through the entire training dataset. Each line in the training output represents the loss value at a specific point during the epoch, indicating how well the model is minimizing prediction error. As training progresses, the loss values generally decrease, reflecting that the model is learning from the data. After each epoch, the model is evaluated on a separate test set to assess generalization performance. By epoch 15, the model achieves a test accuracy of 91.8%, with a relatively low average loss of 0.2367, suggesting strong performance on unseen data. Running multiple epochs allows the model to iteratively adjust its weights and improve predictions, which is especially important for complex datasets like FashionMNIST where a single pass would not be sufficient to learn meaningful patterns."
   ]
  },
  {
   "cell_type": "markdown",
   "metadata": {},
   "source": [
    "### Summary Figure"
   ]
  },
  {
   "cell_type": "code",
   "execution_count": null,
   "metadata": {},
   "outputs": [
    {
     "data": {
      "image/png": "[encoded data removed]",
      "text/plain": [
       "<Figure size 1200x300 with 4 Axes>"
      ]
     },
     "metadata": {},
     "output_type": "display_data"
    }
   ],
   "source": [
    "model.eval()\n",
    "y_true = []\n",
    "y_pred = []\n",
    "images = []\n",
    "\n",
    "with torch.no_grad():\n",
    "    for X, y in test_dataloader:\n",
    "        X, y = X.to(device), y.to(device)\n",
    "        outputs = model(X)\n",
    "        preds = outputs.argmax(1)\n",
    "        y_true.extend(y.cpu().numpy())\n",
    "        y_pred.extend(preds.cpu().numpy())\n",
    "        images.extend(X.cpu())  \n",
    "\n",
    "n_test = len(y_pred)\n",
    "idx = random.sample(range(n_test), 4)\n",
    "\n",
    "fig, axes = plt.subplots(1, 4, figsize=(12, 3))\n",
    "for i, ax in enumerate(axes):\n",
    "    ax.set_axis_off()\n",
    "    img = images[idx[i]].squeeze(0) \n",
    "    ax.imshow(img, cmap=\"gray\")\n",
    "    true = class_names[y_true[idx[i]]]\n",
    "    pred = class_names[y_pred[idx[i]]]\n",
    "    ax.set_title(f\"True: {true}\\nPred: {pred}\")\n",
    "\n",
    "plt.tight_layout()\n",
    "plt.show()"
   ]
  },
  {
   "cell_type": "markdown",
   "metadata": {},
   "source": [
    "This summary figure shows four example predictions from the model where the predicted labels match the true labels, indicating successful classification. Each image is labeled with both the actual class and the model's predicted class, demonstrating the model's ability to correctly identify different types of clothing such as shirts, sneakers, and pullovers. Visualizing these results helps confirm that the model has learned meaningful patterns and is generalizing well on unseen test data."
   ]
  },
  {
   "cell_type": "code",
   "execution_count": null,
   "metadata": {},
   "outputs": [
    {
     "data": {
      "image/png": "[encoded data removed]",
      "text/plain": [
       "<Figure size 640x480 with 2 Axes>"
      ]
     },
     "metadata": {},
     "output_type": "display_data"
    }
   ],
   "source": [
    "cm = confusion_matrix(y_true, y_pred)\n",
    "disp = ConfusionMatrixDisplay(confusion_matrix=cm, display_labels=class_names)\n",
    "disp.plot(xticks_rotation=\"vertical\", cmap=\"Blues\")\n",
    "plt.title(\"FashionMNIST Confusion Matrix\")\n",
    "plt.show()"
   ]
  },
  {
   "cell_type": "markdown",
   "metadata": {},
   "source": [
    "This confusion matrix shows the performance of the model across all ten FashionMNIST clothing categories, comparing the true labels (rows) to the predicted labels (columns). The diagonal values represent correct classifications, and we see strong performance across most classes, especially for trousers, sneakers, and bags, with over 970 correct predictions each. However, the model struggles more with shirts, which are often misclassified as T-shirts/tops, pullovers, or coats—likely due to visual similarity. This visualization helps identify which classes are most frequently confused, guiding future improvements like targeted data augmentation or model architecture changes."
   ]
  },
  {
   "cell_type": "code",
   "execution_count": 145,
   "metadata": {},
   "outputs": [],
   "source": [
    "# serialize model\n",
    "model_scripted = torch.jit.script(model)\n",
    "\n",
    "model_scripted.save(\"fashion.pt\")"
   ]
  },
  {
   "cell_type": "markdown",
   "metadata": {},
   "source": [
    "## Discussion and Conclusion\n",
    "\n",
    "In conclusion, a Convolutional Neural Network (CNN) was developed and trained to classify grayscale images of clothing items from the FashionMNIST dataset into one of ten categories. The model was implemented using PyTorch and trained end-to-end with mini-batch stochastic gradient descent using the Adam optimizer. Data augmentation techniques such as random horizontal flipping and rotation were applied during preprocessing to improve generalization. Over the course of 15 training epochs, the model consistently improved in accuracy, ultimately achieving a test accuracy of 91.8% with a low average loss, indicating strong performance on unseen data.\n",
    "\n",
    "### Key Limitations\n",
    "\n",
    "While the model performs well overall, certain classes show higher confusion than others. In particular, the shirt class was often misclassified as T-shirt/top, pullover, or coat, which is likely due to visual similarities and overlap in style. Additionally, the model is limited to pixel intensity data and does not leverage any metadata or contextual information, which could potentially improve classification. Finally, although the model is relatively compact, it may still require optimization for real-time or resource-constrained deployment.\n",
    "\n",
    "### Potential Risks and Adjustments\n",
    "\n",
    "The current model may struggle in real-world scenarios where image quality, lighting, or item deformation differs significantly from the dataset's clean, centered inputs. There is also a risk of overfitting to the FashionMNIST structure and style, which may limit generalization to broader fashion datasets. To address this, additional augmentation, domain adaptation, or transfer learning from pre-trained models could be explored. Furthermore, implementing dropout or batch normalization could reduce overfitting and stabilize training.\n",
    "\n",
    "### Improvements Needed for Practical Use\n",
    "\n",
    "To strengthen the model's application in practical image classification tasks, several improvements are recommended:\n",
    "\n",
    "1. Introduce dropout or batch normalization to improve generalization and training stability.  \n",
    "2. Train on more diverse fashion datasets to increase robustness to real-world variability.  \n",
    "3. Experiment with deeper CNN architectures or pretrained networks such as ResNet or MobileNet.  \n",
    "4. Develop interactive visualization tools or dashboards to display model predictions and confidence levels.\n",
    "\n",
    "### Conclusion\n",
    "\n",
    "The CNN model trained on FashionMNIST demonstrates high classification accuracy and effective learning from low-resolution grayscale image data. Through a combination of data augmentation, structured convolutional architecture, and adaptive optimization, the model serves as a strong baseline for fashion item classification tasks. While some confusion remains among visually similar classes, the overall results are promising and lay the groundwork for further refinement. With continued improvements in architecture, regularization, and data diversity, this approach can be extended to more complex and realistic image classification applications.\n"
   ]
  }
 ],
 "metadata": {
  "language_info": {
   "name": "python"
  }
 },
 "nbformat": 4,
 "nbformat_minor": 2
}
