{
 "cells": [
  {
   "cell_type": "markdown",
   "metadata": {},
   "source": [
    "# Credit Rating Study"
   ]
  },
  {
   "cell_type": "markdown",
   "metadata": {},
   "source": [
    "---\n",
    "embed-resources: true\n",
    "---"
   ]
  },
  {
   "cell_type": "markdown",
   "metadata": {},
   "source": [
    "## Introduction"
   ]
  },
  {
   "cell_type": "markdown",
   "metadata": {},
   "source": [
    "In this study, we develop a model to predict a customer's credit rating based on key demographic and financial attributes. The model leverages historical credit data, including income, age, education, and marital status, to estimate an individual's creditworthiness. By analyzing these factors, we aim to provide a data-driven approach to credit scoring, reducing the bank’s reliance on third-party credit agencies. While the model offers valuable insights, it does not account for external financial behaviors, such as spending habits, loan repayment history, or economic conditions, which should also be considered in real-world credit evaluations."
   ]
  },
  {
   "cell_type": "markdown",
   "metadata": {},
   "source": [
    "## Methods"
   ]
  },
  {
   "cell_type": "code",
   "execution_count": 1,
   "metadata": {},
   "outputs": [],
   "source": [
    "# ignore warnings\n",
    "import warnings\n",
    "warnings.filterwarnings(\"ignore\")"
   ]
  },
  {
   "cell_type": "code",
   "execution_count": 2,
   "metadata": {},
   "outputs": [],
   "source": [
    "# basic imports\n",
    "import numpy as np\n",
    "import pandas as pd\n",
    "import seaborn as sns\n",
    "import matplotlib.pyplot as plt\n",
    "from joblib import dump\n",
    "\n",
    "# model imports\n",
    "from sklearn.neighbors import KNeighborsRegressor\n",
    "\n",
    "# metric imports\n",
    "from sklearn.metrics import root_mean_squared_error\n",
    "from sklearn.metrics import mean_squared_error\n",
    "from sklearn.metrics import accuracy_score\n",
    "from sklearn.metrics import mean_absolute_error\n",
    "from sklearn.metrics import r2_score\n",
    "\n",
    "# model selection imports\n",
    "from sklearn.model_selection import train_test_split\n",
    "from sklearn.model_selection import KFold\n",
    "from sklearn.model_selection import cross_val_score\n",
    "from sklearn.model_selection import GridSearchCV\n",
    "\n",
    "# preprocessing imports\n",
    "from sklearn.preprocessing import RobustScaler\n",
    "from sklearn.preprocessing import OneHotEncoder\n",
    "from sklearn.impute import SimpleImputer\n",
    "from sklearn.compose import make_column_transformer\n",
    "from sklearn.pipeline import make_pipeline"
   ]
  },
  {
   "cell_type": "markdown",
   "metadata": {},
   "source": [
    "### Data"
   ]
  },
  {
   "cell_type": "code",
   "execution_count": 3,
   "metadata": {},
   "outputs": [],
   "source": [
    "# load data\n",
    "credit_train = pd.read_parquet(\"https://cs307.org/lab/data/credit-train.parquet\")\n",
    "credit_test = pd.read_parquet(\"https://cs307.org/lab/data/credit-test.parquet\")"
   ]
  },
  {
   "cell_type": "code",
   "execution_count": 4,
   "metadata": {},
   "outputs": [],
   "source": [
    "# define features and target\n",
    "numeric_features = [\"Age\", \"Income\", \"Education\"]\n",
    "categorical_features = [\"Student\", \"Gender\", \"Married\", \"Ethnicity\"] \n",
    "target_column = 'Rating' "
   ]
  },
  {
   "cell_type": "markdown",
   "metadata": {},
   "source": [
    "### Dataset Description\n",
    "\n",
    "The dataset consists of credit rating data from a banking institution, where each row represents a customer's financial and demographic details. The goal is to predict an individual's credit rating based on key features such as income, age, education, and marital status.\n",
    "\n",
    "Each row represents a single banking customer, including financial details and demographic information, which are used to predict the credit rating.\n",
    "\n",
    "#### Response  \n",
    "**`Rating`**  \n",
    "- **[float64]** Credit rating, specifically the credit score of an individual consumer.  \n",
    "\n",
    "#### Features  \n",
    "\n",
    "**`Income`**  \n",
    "- **[float64]** Yearly income in $1000s.  \n",
    "\n",
    "**`Age`**  \n",
    "- **[float64]** Age of the individual.  \n",
    "\n",
    "**`Education`**  \n",
    "- **[float64]** Years of education completed.  \n",
    "\n",
    "**`Gender`**  \n",
    "- **[object]** Gender of the individual.  \n",
    "\n",
    "**`Student`**  \n",
    "- **[object]** A Yes/No variable where Yes indicates the individual is a student.  \n",
    "\n",
    "**`Married`**  \n",
    "- **[object]** A Yes/No variable where Yes indicates the individual is married.  \n",
    "\n",
    "**`Ethnicity`**  \n",
    "- **[object]** Ethnicity of the individual.  "
   ]
  },
  {
   "cell_type": "code",
   "execution_count": 5,
   "metadata": {},
   "outputs": [
    {
     "data": {
      "text/html": [
       "<div>\n",
       "<style scoped>\n",
       "    .dataframe tbody tr th:only-of-type {\n",
       "        vertical-align: middle;\n",
       "    }\n",
       "\n",
       "    .dataframe tbody tr th {\n",
       "        vertical-align: top;\n",
       "    }\n",
       "\n",
       "    .dataframe thead th {\n",
       "        text-align: right;\n",
       "    }\n",
       "</style>\n",
       "<table border=\"1\" class=\"dataframe\">\n",
       "  <thead>\n",
       "    <tr style=\"text-align: right;\">\n",
       "      <th></th>\n",
       "      <th>Rating</th>\n",
       "      <th>Income</th>\n",
       "      <th>Age</th>\n",
       "      <th>Education</th>\n",
       "      <th>Gender</th>\n",
       "      <th>Student</th>\n",
       "      <th>Married</th>\n",
       "      <th>Ethnicity</th>\n",
       "    </tr>\n",
       "  </thead>\n",
       "  <tbody>\n",
       "    <tr>\n",
       "      <th>135</th>\n",
       "      <td>257.0</td>\n",
       "      <td>44.473</td>\n",
       "      <td>81.0</td>\n",
       "      <td>16.0</td>\n",
       "      <td>Female</td>\n",
       "      <td>No</td>\n",
       "      <td>No</td>\n",
       "      <td>None</td>\n",
       "    </tr>\n",
       "    <tr>\n",
       "      <th>277</th>\n",
       "      <td>353.0</td>\n",
       "      <td>41.532</td>\n",
       "      <td>50.0</td>\n",
       "      <td>NaN</td>\n",
       "      <td>Male</td>\n",
       "      <td>No</td>\n",
       "      <td>Yes</td>\n",
       "      <td>Caucasian</td>\n",
       "    </tr>\n",
       "    <tr>\n",
       "      <th>93</th>\n",
       "      <td>388.0</td>\n",
       "      <td>16.479</td>\n",
       "      <td>26.0</td>\n",
       "      <td>16.0</td>\n",
       "      <td>Male</td>\n",
       "      <td>None</td>\n",
       "      <td>No</td>\n",
       "      <td>None</td>\n",
       "    </tr>\n",
       "    <tr>\n",
       "      <th>205</th>\n",
       "      <td>321.0</td>\n",
       "      <td>10.793</td>\n",
       "      <td>29.0</td>\n",
       "      <td>13.0</td>\n",
       "      <td>Male</td>\n",
       "      <td>No</td>\n",
       "      <td>No</td>\n",
       "      <td>Caucasian</td>\n",
       "    </tr>\n",
       "    <tr>\n",
       "      <th>57</th>\n",
       "      <td>367.0</td>\n",
       "      <td>76.273</td>\n",
       "      <td>65.0</td>\n",
       "      <td>14.0</td>\n",
       "      <td>Female</td>\n",
       "      <td>No</td>\n",
       "      <td>Yes</td>\n",
       "      <td>Caucasian</td>\n",
       "    </tr>\n",
       "  </tbody>\n",
       "</table>\n",
       "</div>"
      ],
      "text/plain": [
       "     Rating  Income   Age  Education  Gender Student Married  Ethnicity\n",
       "135   257.0  44.473  81.0       16.0  Female      No      No       None\n",
       "277   353.0  41.532  50.0        NaN    Male      No     Yes  Caucasian\n",
       "93    388.0  16.479  26.0       16.0    Male    None      No       None\n",
       "205   321.0  10.793  29.0       13.0    Male      No      No  Caucasian\n",
       "57    367.0  76.273  65.0       14.0  Female      No     Yes  Caucasian"
      ]
     },
     "execution_count": 5,
     "metadata": {},
     "output_type": "execute_result"
    }
   ],
   "source": [
    "credit_train.head()"
   ]
  },
  {
   "cell_type": "code",
   "execution_count": 6,
   "metadata": {},
   "outputs": [
    {
     "data": {
      "text/html": [
       "<div>\n",
       "<style scoped>\n",
       "    .dataframe tbody tr th:only-of-type {\n",
       "        vertical-align: middle;\n",
       "    }\n",
       "\n",
       "    .dataframe tbody tr th {\n",
       "        vertical-align: top;\n",
       "    }\n",
       "\n",
       "    .dataframe thead th {\n",
       "        text-align: right;\n",
       "    }\n",
       "</style>\n",
       "<table border=\"1\" class=\"dataframe\">\n",
       "  <thead>\n",
       "    <tr style=\"text-align: right;\">\n",
       "      <th></th>\n",
       "      <th>Rating</th>\n",
       "      <th>Income</th>\n",
       "      <th>Age</th>\n",
       "      <th>Education</th>\n",
       "      <th>Gender</th>\n",
       "      <th>Student</th>\n",
       "      <th>Married</th>\n",
       "      <th>Ethnicity</th>\n",
       "    </tr>\n",
       "  </thead>\n",
       "  <tbody>\n",
       "    <tr>\n",
       "      <th>329</th>\n",
       "      <td>527.0</td>\n",
       "      <td>94.193</td>\n",
       "      <td>44.0</td>\n",
       "      <td>16.0</td>\n",
       "      <td>None</td>\n",
       "      <td>No</td>\n",
       "      <td>Yes</td>\n",
       "      <td>Caucasian</td>\n",
       "    </tr>\n",
       "    <tr>\n",
       "      <th>271</th>\n",
       "      <td>347.0</td>\n",
       "      <td>44.978</td>\n",
       "      <td>30.0</td>\n",
       "      <td>10.0</td>\n",
       "      <td>Female</td>\n",
       "      <td>No</td>\n",
       "      <td>None</td>\n",
       "      <td>Caucasian</td>\n",
       "    </tr>\n",
       "    <tr>\n",
       "      <th>163</th>\n",
       "      <td>203.0</td>\n",
       "      <td>13.676</td>\n",
       "      <td>80.0</td>\n",
       "      <td>16.0</td>\n",
       "      <td>Female</td>\n",
       "      <td>No</td>\n",
       "      <td>No</td>\n",
       "      <td>African American</td>\n",
       "    </tr>\n",
       "    <tr>\n",
       "      <th>48</th>\n",
       "      <td>205.0</td>\n",
       "      <td>44.522</td>\n",
       "      <td>72.0</td>\n",
       "      <td>15.0</td>\n",
       "      <td>Male</td>\n",
       "      <td>No</td>\n",
       "      <td>Yes</td>\n",
       "      <td>Asian</td>\n",
       "    </tr>\n",
       "    <tr>\n",
       "      <th>331</th>\n",
       "      <td>291.0</td>\n",
       "      <td>12.581</td>\n",
       "      <td>48.0</td>\n",
       "      <td>16.0</td>\n",
       "      <td>None</td>\n",
       "      <td>None</td>\n",
       "      <td>Yes</td>\n",
       "      <td>Caucasian</td>\n",
       "    </tr>\n",
       "  </tbody>\n",
       "</table>\n",
       "</div>"
      ],
      "text/plain": [
       "     Rating  Income   Age  Education  Gender Student Married         Ethnicity\n",
       "329   527.0  94.193  44.0       16.0    None      No     Yes         Caucasian\n",
       "271   347.0  44.978  30.0       10.0  Female      No    None         Caucasian\n",
       "163   203.0  13.676  80.0       16.0  Female      No      No  African American\n",
       "48    205.0  44.522  72.0       15.0    Male      No     Yes             Asian\n",
       "331   291.0  12.581  48.0       16.0    None    None     Yes         Caucasian"
      ]
     },
     "execution_count": 6,
     "metadata": {},
     "output_type": "execute_result"
    }
   ],
   "source": [
    "credit_test.head()"
   ]
  },
  {
   "cell_type": "markdown",
   "metadata": {},
   "source": [
    "### Summary Statistics"
   ]
  },
  {
   "cell_type": "code",
   "execution_count": 7,
   "metadata": {},
   "outputs": [],
   "source": [
    "# summary statistics\n",
    "credit_variables = {\n",
    "    \"Rating\": credit_train[\"Rating\"],\n",
    "    \"Income\": credit_train[\"Income\"],\n",
    "    \"Age\": credit_train[\"Age\"],\n",
    "    \"Education\": credit_train[\"Education\"],\n",
    "    \"Gender\": credit_train[\"Gender\"],\n",
    "    \"Student\": credit_train[\"Student\"],\n",
    "    \"Married\": credit_train[\"Married\"],\n",
    "    \"Ethnicity\": credit_train[\"Ethnicity\"],\n",
    "}"
   ]
  },
  {
   "cell_type": "code",
   "execution_count": 8,
   "metadata": {},
   "outputs": [
    {
     "name": "stdout",
     "output_type": "stream",
     "text": [
      "Credit Rating Statistics:\n",
      "- Mean Credit Rating: 347.609375\n",
      "- Standard Deviation: 148.8931046679028\n"
     ]
    }
   ],
   "source": [
    "mean_rating = credit_variables[\"Rating\"].mean()\n",
    "std_rating = credit_variables[\"Rating\"].std()\n",
    "\n",
    "print(f\"Credit Rating Statistics:\")\n",
    "print(f\"- Mean Credit Rating: {mean_rating}\")\n",
    "print(f\"- Standard Deviation: {std_rating}\")"
   ]
  },
  {
   "cell_type": "markdown",
   "metadata": {},
   "source": [
    "This means that, on average, credit ratings are centered around 347.6094, with most values falling within 148.8931 of the mean. The standard deviation indicates the typical spread of credit ratings around this mean, reflecting the variability in customer "
   ]
  },
  {
   "cell_type": "code",
   "execution_count": 9,
   "metadata": {},
   "outputs": [
    {
     "name": "stdout",
     "output_type": "stream",
     "text": [
      "Unique values in 'Student' column: ['No' None 'Yes']\n",
      "\n",
      "Student Statistics\n",
      "Total Students: 19\n",
      "Mean Credit Rating: 338.4736842105263\n",
      "Standard Deviation: 149.1644761183859\n",
      "\n",
      "Non-Student Statistics\n",
      "Total Non-Students: 213\n",
      "Mean Credit Rating: 349.51173708920186\n",
      "Standard Deviation: 148.00352527445554\n"
     ]
    }
   ],
   "source": [
    "unique_values = credit_train[\"Student\"].unique()\n",
    "print(f\"Unique values in 'Student' column: {unique_values}\")\n",
    "\n",
    "yes_students = credit_train[credit_train[\"Student\"] == \"Yes\"]\n",
    "no_students = credit_train[credit_train[\"Student\"] == \"No\"]\n",
    "\n",
    "print(\"\\nStudent Statistics\")\n",
    "print(f\"Total Students: {len(yes_students)}\")\n",
    "print(f\"Mean Credit Rating: {yes_students['Rating'].mean()}\")\n",
    "print(f\"Standard Deviation: {yes_students['Rating'].std()}\")\n",
    "\n",
    "print(\"\\nNon-Student Statistics\")\n",
    "print(f\"Total Non-Students: {len(no_students)}\")\n",
    "print(f\"Mean Credit Rating: {no_students['Rating'].mean()}\")\n",
    "print(f\"Standard Deviation: {no_students['Rating'].std()}\")"
   ]
  },
  {
   "cell_type": "markdown",
   "metadata": {},
   "source": [
    "The unique values in the \"Student\" column are \"Yes\", \"No\", and None, indicating that some entries have missing values for student status. While \"None\" is typically considered a missing value, there is no reason to remove these entries in this study. Since I do not want to exclude entire rows, I will retain the \"None\" values in the dataset.\n",
    "\n",
    "Among the 19 students, the mean credit rating is 338.47, with a standard deviation of 149.16, suggesting that student credit ratings vary widely around the mean.\n",
    "\n",
    "For the 213 non-students, the mean credit rating is 349.51, slightly higher than that of students. The standard deviation of 148.00 indicates a similar spread in credit ratings compared to students.\n",
    "\n",
    "This suggests that students tend to have slightly lower credit ratings on average than non-students, though the variability in credit scores is comparable for both groups. The presence of None values in the \"Student\" column should be handled appropriately, either by imputation or exclusion, to ensure accurate model training."
   ]
  },
  {
   "cell_type": "code",
   "execution_count": 10,
   "metadata": {},
   "outputs": [
    {
     "name": "stdout",
     "output_type": "stream",
     "text": [
      "Married Statistics\n",
      "Total Married Individuals: 158\n",
      "Mean Credit Rating: 358.90506329113924\n",
      "Standard Deviation: 157.7979352901777\n",
      "\n",
      "Non-Married Statistics\n",
      "Total Non-Married Individuals: 98\n",
      "Mean Credit Rating: 329.3979591836735\n",
      "Standard Deviation: 132.03964882478107\n"
     ]
    }
   ],
   "source": [
    "yes_married = credit_train[credit_train[\"Married\"] == \"Yes\"]\n",
    "no_married = credit_train[credit_train[\"Married\"] == \"No\"]\n",
    "\n",
    "print(\"Married Statistics\")\n",
    "print(f\"Total Married Individuals: {len(yes_married)}\")\n",
    "print(f\"Mean Credit Rating: {yes_married['Rating'].mean()}\")\n",
    "print(f\"Standard Deviation: {yes_married['Rating'].std()}\")\n",
    "\n",
    "print(\"\\nNon-Married Statistics\")\n",
    "print(f\"Total Non-Married Individuals: {len(no_married)}\")\n",
    "print(f\"Mean Credit Rating: {no_married['Rating'].mean()}\")\n",
    "print(f\"Standard Deviation: {no_married['Rating'].std()}\")"
   ]
  },
  {
   "cell_type": "markdown",
   "metadata": {},
   "source": [
    "The created datasets distinguish between married and non-married individuals based on their reported marital status.\n",
    "\n",
    "Among married individuals, the mean credit rating is higher compared to non-married individuals, suggesting that marriage may be associated with a more stable financial situation. The standard deviation indicates the variability in credit ratings within this group.\n",
    "\n",
    "For non-married individuals, the mean credit rating is lower, which could reflect different financial behaviors, responsibilities, or access to credit. However, the standard deviation is also high, indicating a wide range of credit scores among both married and non-married individuals.\n",
    "\n",
    "These findings suggest that marital status may play a role in credit ratings, though further analysis is needed to determine whether this relationship is causal or influenced by other factors such as income, age, or education."
   ]
  },
  {
   "cell_type": "code",
   "execution_count": 11,
   "metadata": {},
   "outputs": [
    {
     "name": "stdout",
     "output_type": "stream",
     "text": [
      "Credit Rating x Age correlation: 0.1430318874061348\n",
      "Credit Rating x Income correlation: 0.7708422040157114\n"
     ]
    }
   ],
   "source": [
    "print(f\"Credit Rating x Age correlation: {credit_variables[\"Rating\"].corr(credit_variables[\"Age\"])}\")\n",
    "print(f\"Credit Rating x Income correlation: {credit_variables[\"Rating\"].corr(credit_variables[\"Income\"])}\")"
   ]
  },
  {
   "cell_type": "markdown",
   "metadata": {},
   "source": [
    "The correlation between credit rating and age is 0.1430, indicating a weak positive relationship. This suggests that age has little influence on credit rating, meaning that older individuals do not necessarily have significantly higher or lower credit ratings compared to younger individuals.\n",
    "\n",
    "The correlation between credit rating and income is 0.7708, indicating a strong positive relationship. This suggests that higher-income individuals tend to have higher credit ratings, which aligns with expectations, as income is a key factor in financial stability and creditworthiness.\n",
    "\n",
    "Overall, while income appears to be a strong predictor of credit rating, age has a minimal impact, implying that credit scores are more influenced by financial capacity than by an individual's age."
   ]
  },
  {
   "cell_type": "code",
   "execution_count": 12,
   "metadata": {},
   "outputs": [
    {
     "name": "stdout",
     "output_type": "stream",
     "text": [
      "Proportion of missing Values in the Dataset:\n",
      "- Rating: 0 values missing\n",
      "- Income: 0 values missing\n",
      "- Age: 0.12890625 values missing\n",
      "- Education: 0.09765625 values missing\n",
      "- Gender: 0.0234375 values missing\n",
      "- Student: 0.09375 values missing\n",
      "- Married: 0 missing values\n",
      "- Ethnicity: 0.09765625 values missing\n"
     ]
    }
   ],
   "source": [
    "print(\"Proportion of missing Values in the Dataset:\")\n",
    "\n",
    "print(f\"- Rating: {credit_variables['Rating'].isna().sum()} values missing\")\n",
    "print(f\"- Income: {credit_variables['Income'].isna().sum()} values missing\")\n",
    "print(f\"- Age: {credit_variables['Age'].isna().mean()} values missing\")\n",
    "print(f\"- Education: {credit_variables['Education'].isna().mean()} values missing\")\n",
    "print(f\"- Gender: {credit_variables['Gender'].isna().mean()} values missing\")\n",
    "print(f\"- Student: {credit_variables['Student'].isna().mean()} values missing\")\n",
    "print(f\"- Married: {credit_variables['Married'].isna().sum()} missing values\")\n",
    "print(f\"- Ethnicity: {credit_variables['Ethnicity'].isna().mean()} values missing\")\n"
   ]
  },
  {
   "cell_type": "markdown",
   "metadata": {},
   "source": [
    "The dataset contains missing values in several key features, primarily in age, education, student status, and ethnicity, while credit rating, income, and marital status have no missing values.\n",
    "\n",
    "Age has the highest percentage of missing values (12.89%), which could be significant since age may influence financial stability and creditworthiness. Education (9.77%) and student status (9.38%) also have notable gaps, potentially affecting insights related to an individual's financial behavior. Ethnicity (9.77%) has a similar proportion of missing values, which could impact demographic-based analyses.\n",
    "\n",
    "The absence of missing values in credit rating, income, and marital status ensures these variables remain fully available for modeling. Given the missing data in several categorical and numerical features, careful handling through imputation or alternative modeling approaches will be necessary to maintain predictive accuracy without introducing bias."
   ]
  },
  {
   "cell_type": "markdown",
   "metadata": {},
   "source": [
    "### Exploratory Visualization"
   ]
  },
  {
   "cell_type": "code",
   "execution_count": 13,
   "metadata": {},
   "outputs": [
    {
     "data": {
      "image/png": "[encoded data removed]",
      "text/plain": [
       "<Figure size 800x500 with 1 Axes>"
      ]
     },
     "metadata": {},
     "output_type": "display_data"
    }
   ],
   "source": [
    "# exploratory visualization\n",
    "plt.figure(figsize=(8, 5))\n",
    "sns.scatterplot(x=credit_train[\"Income\"], y=credit_train[\"Rating\"])\n",
    "sns.regplot(x=credit_train[\"Income\"], y=credit_train[\"Rating\"], scatter=False, color=\"red\")\n",
    "plt.xlabel(\"Income ($1000s)\")\n",
    "plt.ylabel(\"Credit Rating\")\n",
    "plt.title(\"Credit Rating vs. Income\")\n",
    "plt.show()"
   ]
  },
  {
   "cell_type": "markdown",
   "metadata": {},
   "source": [
    "The scatter plot visualizes the relationship between credit rating and income, with a regression line indicating a strong positive correlation. As income increases, credit rating also increases, suggesting that individuals with higher income generally have better credit scores. The tight clustering of points around the regression line reinforces this strong correlation, which aligns with the previously observed correlation coefficient of 0.77 between income and credit rating.\n",
    "\n",
    "While this relationship is statistically significant, including income as a predictor in the model may not be beneficial. Since credit rating is highly dependent on income, using income as a feature might lead to data leakage or overfitting, where the model relies too heavily on income rather than identifying other meaningful predictors. Removing income from the model could provide a more generalizable approach, allowing the model to make better predictions for individuals with varying financial situations.\n",
    "\n",
    "Additionally, the only visible outliers appear at the highest income levels, where some individuals have lower-than-expected credit ratings despite earning significantly more. These outliers could indicate unique financial behaviors, such as high debt levels or poor repayment histories, which are not captured in this dataset. If these high-income outliers are due to factors not present in the dataset, the model may struggle to make accurate predictions for similar cases in real-world applications.\n",
    "\n",
    "Given this, a model without income as a predictor may yield more robust and fair predictions, focusing on demographic and behavioral factors rather than just financial capability. Further analysis could explore alternative predictors, such as education level or marital status, to see how they contribute to credit rating prediction in the absence of income."
   ]
  },
  {
   "cell_type": "code",
   "execution_count": 14,
   "metadata": {},
   "outputs": [
    {
     "data": {
      "image/png": "[encoded data removed]",
      "text/plain": [
       "<Figure size 800x500 with 1 Axes>"
      ]
     },
     "metadata": {},
     "output_type": "display_data"
    }
   ],
   "source": [
    "plt.figure(figsize=(8, 5))\n",
    "sns.violinplot(x=credit_train[\"Ethnicity\"], y=credit_train[\"Rating\"])\n",
    "plt.xlabel(\"Ethnicity\")\n",
    "plt.ylabel(\"Credit Rating\")\n",
    "plt.title(\"Credit Rating Distribution by Ethnicity\")\n",
    "plt.show()"
   ]
  },
  {
   "cell_type": "markdown",
   "metadata": {},
   "source": [
    "The violin plot visualizes the distribution of credit ratings across different ethnic groups, showing the density and spread of credit scores within each category. Although all three ethnic groups have nearly identical medians and minimum values, their maximum values differ, indicating variation in the upper range of credit ratings.\n",
    "\n",
    "The African American group contains the highest outlier(s), where a few individuals have extremely high credit ratings compared to the rest of the distribution. However, despite these outliers, the African American group still has the lowest overall maximum credit rating among the three groups. This suggests that while some individuals in this group achieve high credit ratings, the upper boundary for most remains lower compared to other ethnicity's.\n",
    "\n",
    "The Asian group's distribution appears slightly more skewed to the right, meaning it has a longer tail toward higher credit scores. While the median credit rating for Asians is similar to that of Caucasian and African American groups, their mean credit rating is likely the highest due to the influence of this positive skew. This suggests that more individuals in the Asian category have credit ratings that extend toward the higher end of the spectrum, pulling the average (mean) upward even if the median remains unchanged.\n",
    "\n",
    "Overall, this visualization suggests that while central tendencies (medians) are nearly the same across groups, the shape of the distributions and the presence of high outliers influence the overall spread and mean values, which could impact how ethnicity interacts with other financial variables in predicting credit scores."
   ]
  },
  {
   "cell_type": "markdown",
   "metadata": {},
   "source": [
    "### Models"
   ]
  },
  {
   "cell_type": "code",
   "execution_count": 15,
   "metadata": {},
   "outputs": [],
   "source": [
    "# process data for ML\n",
    "X_train = credit_train.drop(\"Rating\", axis=1)\n",
    "y_train = credit_train[\"Rating\"]\n",
    "\n",
    "X_test = credit_test.drop(\"Rating\", axis=1)\n",
    "y_test = credit_test[\"Rating\"]"
   ]
  },
  {
   "cell_type": "code",
   "execution_count": 16,
   "metadata": {},
   "outputs": [
    {
     "name": "stdout",
     "output_type": "stream",
     "text": [
      "The number of samples is 256 and the number of features is 7\n"
     ]
    }
   ],
   "source": [
    "samples, features = X_train.shape\n",
    "print(f\"The number of samples is {samples} and the number of features is {features}\")"
   ]
  },
  {
   "cell_type": "code",
   "execution_count": 17,
   "metadata": {},
   "outputs": [
    {
     "name": "stdout",
     "output_type": "stream",
     "text": [
      "Best Parameters: {'kneighborsregressor__metric': 'chebyshev', 'kneighborsregressor__n_neighbors': 13, 'kneighborsregressor__p': 5, 'kneighborsregressor__weights': 'uniform'}\n",
      "Best Cross-Validated RMSE: 101.4492\n"
     ]
    }
   ],
   "source": [
    "# train models\n",
    "\n",
    "# define preprocessing for numeric features\n",
    "numeric_transformer = make_pipeline(\n",
    "    SimpleImputer(strategy=\"mean\"),\n",
    "    RobustScaler(),\n",
    ")\n",
    "\n",
    "# define preprocessing for categorical features\n",
    "categorical_transformer = make_pipeline(\n",
    "    SimpleImputer(strategy=\"constant\", fill_value=\"Unknown\"),\n",
    "    OneHotEncoder(handle_unknown=\"ignore\", drop=\"first\") \n",
    ")\n",
    "\n",
    "# create general preprocessor\n",
    "preprocessor = make_column_transformer(\n",
    "    (numeric_transformer, numeric_features),\n",
    "    (categorical_transformer, categorical_features),\n",
    ")\n",
    "\n",
    "# define the classifier\n",
    "knn = KNeighborsRegressor()\n",
    "\n",
    "# define the parameter grid\n",
    "param_grid = {\n",
    "    \"kneighborsregressor__n_neighbors\": list(range(1, 31)),\n",
    "    \"kneighborsregressor__p\": [5], \n",
    "    \"kneighborsregressor__weights\": [\"uniform\", \"distance\"],\n",
    "    \"kneighborsregressor__metric\": [\"euclidean\", \"manhattan\", \"chebyshev\", \"canberra\", \"hamming\"],\n",
    "}\n",
    "\n",
    "\n",
    "# create the pipeline\n",
    "pipeline = make_pipeline(\n",
    "    preprocessor,\n",
    "    knn,\n",
    ")\n",
    "\n",
    "cv_strategy = KFold(n_splits=3) \n",
    "\n",
    "\n",
    "# create the grid search\n",
    "mod = GridSearchCV(\n",
    "    pipeline,\n",
    "    param_grid,\n",
    "    cv=cv_strategy,\n",
    "    scoring=\"neg_root_mean_squared_error\",\n",
    ")\n",
    "\n",
    "# fit the grid search\n",
    "mod.fit(X_train, y_train)\n",
    "\n",
    "# print the best parameters and the corresponding score\n",
    "print(f\"Best Parameters: {mod.best_params_}\")\n",
    "print(f\"Best Cross-Validated RMSE: {-mod.best_score_:.4f}\")\n"
   ]
  },
  {
   "cell_type": "markdown",
   "metadata": {},
   "source": [
    "## K-Nearest Neighbors (KNN) Regression for Credit Rating Prediction  \n",
    "\n",
    "We use a K-Nearest Neighbors (KNN) regressor to predict credit ratings, selecting the optimal k and distance metric through cross-validation. The model is structured as a machine learning pipeline that preprocesses both numeric and categorical features before training. The goal is to minimize root mean squared error by carefully tuning hyperparameters and ensuring proper feature transformations.\n",
    "\n",
    "### Feature Preprocessing and Its Impact on RMSE  \n",
    "\n",
    "#### Numeric Features  \n",
    "- Imputation (SimpleImputer with mean strategy): Missing numerical values are replaced with the mean of the respective column, preventing information loss while maintaining consistency across features.  \n",
    "- Robust Scaling (RobustScaler): Unlike StandardScaler, which can be sensitive to outliers, RobustScaler scales features based on their interquartile range (IQR). This ensures that extreme values in income, age, or education do not disproportionately affect distance calculations in KNN, leading to better generalization.  \n",
    "\n",
    "#### Categorical Features  \n",
    "- Imputation (SimpleImputer with \"constant\"): Missing categorical values are replaced with \"Unknown\" rather than the most frequent category, preventing bias toward dominant categories.  \n",
    "- One-Hot Encoding (OneHotEncoder with drop=\"first\"): Converts categorical variables such as ethnicity, student status, and marital status into binary indicators, removing the first category to reduce multicollinearity while preserving relevant information.  \n",
    "\n",
    "### Hyperparameter Tuning and Grid Search Optimization  \n",
    "\n",
    "- n_neighbors (k): The number of neighbors is optimized over values ranging from 1 to 30 to find the best tradeoff between bias and variance. Lower k values tend to overfit, while higher k values may underfit.  \n",
    "- p (Minkowski distance power parameter): The model tests different distance metrics by varying p. We use p=5, which applies a higher-order Minkowski distance calculation.  \n",
    "- weights (uniform vs. distance-based weighting): Determines whether all neighbors contribute equally to the prediction or if closer neighbors have more influence.  \n",
    "- metric (distance function): The model tests multiple distance functions (euclidean, manhattan, chebyshev, canberra, and hamming) to identify the most effective one for minimizing RMSE.  \n",
    "\n",
    "### Cross-Validation and Model Selection  \n",
    "\n",
    "- A 3-fold cross-validation strategy is used to evaluate different hyperparameter combinations, ensuring that the model is not overfitting to the training data.  \n",
    "- The best model is selected based on RMSE, ensuring that the final KNN regressor generalizes well to unseen data.  \n",
    "\n",
    "### Impact on RMSE  \n",
    "\n",
    "Each preprocessing step and hyperparameter tuning decision contributes to reducing RMSE:  \n",
    "\n",
    "- Scaling with RobustScaler improves distance calculations by preventing large values from dominating.  \n",
    "- Imputation preserves information while handling missing values effectively.  \n",
    "- Optimized hyperparameters ensure the best neighbor count and distance function for minimal error.  \n",
    "- Cross-validation prevents overfitting, ensuring better generalization.  \n",
    "\n",
    "By systematically tuning these components, the model achieves the lowest possible RMSE, making it more reliable for predicting credit ratings while balancing accuracy and generalization.  \n"
   ]
  },
  {
   "cell_type": "markdown",
   "metadata": {},
   "source": [
    "## Results"
   ]
  },
  {
   "cell_type": "code",
   "execution_count": 18,
   "metadata": {},
   "outputs": [
    {
     "data": {
      "text/html": [
       "<div>\n",
       "<style scoped>\n",
       "    .dataframe tbody tr th:only-of-type {\n",
       "        vertical-align: middle;\n",
       "    }\n",
       "\n",
       "    .dataframe tbody tr th {\n",
       "        vertical-align: top;\n",
       "    }\n",
       "\n",
       "    .dataframe thead th {\n",
       "        text-align: right;\n",
       "    }\n",
       "</style>\n",
       "<table border=\"1\" class=\"dataframe\">\n",
       "  <thead>\n",
       "    <tr style=\"text-align: right;\">\n",
       "      <th></th>\n",
       "      <th>n_neighbors</th>\n",
       "      <th>p</th>\n",
       "      <th>mean_test_rmse</th>\n",
       "      <th>std_test_rmse</th>\n",
       "      <th>rank_test_score</th>\n",
       "    </tr>\n",
       "  </thead>\n",
       "  <tbody>\n",
       "    <tr>\n",
       "      <th>144</th>\n",
       "      <td>13</td>\n",
       "      <td>5</td>\n",
       "      <td>101.449191</td>\n",
       "      <td>7.252730</td>\n",
       "      <td>1</td>\n",
       "    </tr>\n",
       "    <tr>\n",
       "      <th>145</th>\n",
       "      <td>13</td>\n",
       "      <td>5</td>\n",
       "      <td>101.647973</td>\n",
       "      <td>7.057653</td>\n",
       "      <td>2</td>\n",
       "    </tr>\n",
       "    <tr>\n",
       "      <th>148</th>\n",
       "      <td>15</td>\n",
       "      <td>5</td>\n",
       "      <td>101.856667</td>\n",
       "      <td>6.954519</td>\n",
       "      <td>3</td>\n",
       "    </tr>\n",
       "    <tr>\n",
       "      <th>149</th>\n",
       "      <td>15</td>\n",
       "      <td>5</td>\n",
       "      <td>101.911995</td>\n",
       "      <td>6.728507</td>\n",
       "      <td>4</td>\n",
       "    </tr>\n",
       "    <tr>\n",
       "      <th>142</th>\n",
       "      <td>12</td>\n",
       "      <td>5</td>\n",
       "      <td>101.993216</td>\n",
       "      <td>7.105212</td>\n",
       "      <td>5</td>\n",
       "    </tr>\n",
       "    <tr>\n",
       "      <th>...</th>\n",
       "      <td>...</td>\n",
       "      <td>...</td>\n",
       "      <td>...</td>\n",
       "      <td>...</td>\n",
       "      <td>...</td>\n",
       "    </tr>\n",
       "    <tr>\n",
       "      <th>181</th>\n",
       "      <td>1</td>\n",
       "      <td>5</td>\n",
       "      <td>177.377886</td>\n",
       "      <td>12.214801</td>\n",
       "      <td>295</td>\n",
       "    </tr>\n",
       "    <tr>\n",
       "      <th>242</th>\n",
       "      <td>2</td>\n",
       "      <td>5</td>\n",
       "      <td>182.984410</td>\n",
       "      <td>22.772102</td>\n",
       "      <td>297</td>\n",
       "    </tr>\n",
       "    <tr>\n",
       "      <th>243</th>\n",
       "      <td>2</td>\n",
       "      <td>5</td>\n",
       "      <td>183.366487</td>\n",
       "      <td>22.937876</td>\n",
       "      <td>298</td>\n",
       "    </tr>\n",
       "    <tr>\n",
       "      <th>240</th>\n",
       "      <td>1</td>\n",
       "      <td>5</td>\n",
       "      <td>196.941612</td>\n",
       "      <td>31.997767</td>\n",
       "      <td>299</td>\n",
       "    </tr>\n",
       "    <tr>\n",
       "      <th>241</th>\n",
       "      <td>1</td>\n",
       "      <td>5</td>\n",
       "      <td>196.941612</td>\n",
       "      <td>31.997767</td>\n",
       "      <td>299</td>\n",
       "    </tr>\n",
       "  </tbody>\n",
       "</table>\n",
       "<p>300 rows × 5 columns</p>\n",
       "</div>"
      ],
      "text/plain": [
       "     n_neighbors  p  mean_test_rmse  std_test_rmse  rank_test_score\n",
       "144           13  5      101.449191       7.252730                1\n",
       "145           13  5      101.647973       7.057653                2\n",
       "148           15  5      101.856667       6.954519                3\n",
       "149           15  5      101.911995       6.728507                4\n",
       "142           12  5      101.993216       7.105212                5\n",
       "..           ... ..             ...            ...              ...\n",
       "181            1  5      177.377886      12.214801              295\n",
       "242            2  5      182.984410      22.772102              297\n",
       "243            2  5      183.366487      22.937876              298\n",
       "240            1  5      196.941612      31.997767              299\n",
       "241            1  5      196.941612      31.997767              299\n",
       "\n",
       "[300 rows x 5 columns]"
      ]
     },
     "execution_count": 18,
     "metadata": {},
     "output_type": "execute_result"
    }
   ],
   "source": [
    "cv_results = pd.DataFrame(mod.cv_results_)\n",
    "\n",
    "cv_results = cv_results[\n",
    "    [\n",
    "        \"param_kneighborsregressor__n_neighbors\",\n",
    "        \"param_kneighborsregressor__p\",\n",
    "        \"mean_test_score\",\n",
    "        \"std_test_score\",\n",
    "        \"rank_test_score\",\n",
    "    ]\n",
    "].sort_values(by=\"rank_test_score\")\n",
    "\n",
    "cv_results.columns = [\n",
    "    \"n_neighbors\",\n",
    "    \"p\",\n",
    "    \"mean_test_rmse\",\n",
    "    \"std_test_rmse\",\n",
    "    \"rank_test_score\",\n",
    "]\n",
    "\n",
    "cv_results[\"mean_test_rmse\"] = -cv_results[\"mean_test_rmse\"]\n",
    "\n",
    "cv_results\n"
   ]
  },
  {
   "cell_type": "markdown",
   "metadata": {},
   "source": [
    "The output presents the results of hyperparameter tuning using GridSearchCV, which evaluates different combinations of K-Nearest Neighbors parameters to determine the best-performing model. The table ranks the models based on mean test RMSE, where lower values indicate better predictive performance. The best model, with k = 13 and p = 5, achieves the lowest mean test RMSE of 101.45 with a standard deviation of 7.25, meaning it performs consistently across cross-validation folds. In contrast, models with lower k values, such as k = 1, exhibit significantly higher RMSE values, indicating overfitting and poor generalization.\n",
    "\n",
    "The RMSE values were initially negative, as GridSearchCV minimizes the scoring metric, but were converted back to positive for interpretation. The top-ranked models (k = 12-15) show stable performance, with relatively low standard deviations, whereas models with extreme k values (such as k = 1) perform poorly. The results confirm that using a moderate k value with p = 5 leads to the most accurate predictions. To further improve RMSE, additional feature engineering, alternative distance metrics, or further hyperparameter tuning could be explored."
   ]
  },
  {
   "cell_type": "code",
   "execution_count": 19,
   "metadata": {},
   "outputs": [
    {
     "name": "stdout",
     "output_type": "stream",
     "text": [
      "Mean Squared Error (MSE): 11853.1048\n",
      "Root Mean Squared Error (RMSE): 108.8720\n",
      "Mean Absolute Error (MAE): 93.5685\n",
      "R² Score: 0.5218\n"
     ]
    }
   ],
   "source": [
    "# report metrics\n",
    "y_pred = mod.predict(X_test) \n",
    "\n",
    "mse = mean_squared_error(y_test, y_pred)\n",
    "rmse = root_mean_squared_error(y_test, y_pred) \n",
    "mae = mean_absolute_error(y_test, y_pred)\n",
    "r2 = r2_score(y_test, y_pred)\n",
    "\n",
    "print(f\"Mean Squared Error (MSE): {mse:.4f}\")\n",
    "print(f\"Root Mean Squared Error (RMSE): {rmse:.4f}\")\n",
    "print(f\"Mean Absolute Error (MAE): {mae:.4f}\")\n",
    "print(f\"R² Score: {r2:.4f}\")"
   ]
  },
  {
   "cell_type": "markdown",
   "metadata": {},
   "source": [
    "The evaluation metrics provide insight into the model’s performance in predicting credit ratings. The Mean Squared Error of 11,853.10 indicates the average squared difference between the predicted and actual values. The Root Mean Squared Error of 108.87 is the square root of MSE, providing a more interpretable error measure in the same units as the target variable. A Mean Absolute Error of 93.57 suggests that, on average, the model’s predictions deviate by about 93.57 points from the actual credit ratings. The R² score of 0.5218 means that approximately 52.18% of the variance in credit ratings can be explained by the model’s features."
   ]
  },
  {
   "cell_type": "code",
   "execution_count": 20,
   "metadata": {},
   "outputs": [
    {
     "data": {
      "image/png": "[encoded data removed]",
      "text/plain": [
       "<Figure size 800x500 with 1 Axes>"
      ]
     },
     "metadata": {},
     "output_type": "display_data"
    }
   ],
   "source": [
    "# summary figure\n",
    "y_pred = mod.predict(X_test)\n",
    "residuals = y_test - y_pred\n",
    "\n",
    "plt.figure(figsize=(8,5))\n",
    "sns.scatterplot(x=y_test, y=y_pred)\n",
    "plt.plot([y_test.min(), y_test.max()], [y_test.min(), y_test.max()], 'r--') \n",
    "plt.xlabel(\"Actual Credit Rating\")\n",
    "plt.ylabel(\"Predicted Credit Rating\")\n",
    "plt.title(\"Actual vs. Predicted Credit Ratings\")\n",
    "plt.show()\n"
   ]
  },
  {
   "cell_type": "markdown",
   "metadata": {},
   "source": [
    "The Actual vs. Predicted Credit Ratings scatter plot evaluates the performance of the K-Nearest Neighbors (KNN) regression model. Each point represents a test sample, where the x-axis shows the actual credit rating, and the y-axis shows the predicted credit rating. The red dashed line represents a perfect prediction line, meaning any points falling directly on this line indicate perfectly accurate predictions.\n",
    "\n",
    "The distribution of points suggests that the model captures the overall trend but exhibits noticeable prediction errors. Many points fall below or above the perfect prediction line, indicating instances where the model underpredicts or overpredicts credit ratings. There is a stronger clustering of points at lower credit rating values, suggesting that the model performs better for lower credit ratings but struggles with higher credit scores, where larger deviations from the prediction line are observed.\n",
    "\n",
    "Some clear outliers exist, particularly for higher actual credit ratings, where the model tends to underestimate these values. This could indicate that the model does not generalize well to higher credit ratings, potentially due to insufficient high-score examples in the training data or limitations in feature representation. Improving feature selection or experimenting with different hyperparameters might help refine predictions and reduce RMSE."
   ]
  },
  {
   "cell_type": "code",
   "execution_count": 21,
   "metadata": {},
   "outputs": [
    {
     "data": {
      "image/png": "[encoded data removed]",
      "text/plain": [
       "<Figure size 800x500 with 1 Axes>"
      ]
     },
     "metadata": {},
     "output_type": "display_data"
    }
   ],
   "source": [
    "plt.figure(figsize=(8,5))\n",
    "sns.histplot(np.abs(residuals), bins=30, kde=True)\n",
    "plt.xlabel(\"Absolute Error (|Actual - Predicted|)\")\n",
    "plt.ylabel(\"Frequency\")\n",
    "plt.title(\"Distribution of Prediction Errors\")\n",
    "plt.show()"
   ]
  },
  {
   "cell_type": "markdown",
   "metadata": {},
   "source": [
    "The Distribution of Prediction Errors histogram provides insights into how far off the model's predictions are from the actual credit ratings. The x-axis represents the absolute error, while the y-axis represents the frequency of occurrences for different error magnitudes. The KDE line overlays the histogram to visualize the distribution trend.\n",
    "\n",
    "The distribution suggests that while many predictions have relatively small errors, there are also several cases with larger deviations. The presence of errors exceeding 200 points indicates that in some instances, the model struggles significantly with prediction accuracy. The spread of errors appears wide, meaning that while the model captures general trends, it does not consistently provide highly accurate predictions.\n",
    "\n",
    "There is no clear single peak, which may suggest that errors are not normally distributed. Instead, the errors appear somewhat evenly spread across different magnitudes, with multiple local peaks. This could indicate that the model performs better for some groups of credit ratings but worse for others. The presence of large errors suggests that further feature engineering or alternative modeling approaches, such as incorporating different distance metrics or improving categorical feature encoding, may help refine predictions and reduce RMSE."
   ]
  },
  {
   "cell_type": "code",
   "execution_count": 22,
   "metadata": {},
   "outputs": [
    {
     "data": {
      "text/plain": [
       "['credit.joblib']"
      ]
     },
     "execution_count": 22,
     "metadata": {},
     "output_type": "execute_result"
    }
   ],
   "source": [
    "# serialize model\n",
    "dump(mod, \"credit.joblib\")"
   ]
  },
  {
   "cell_type": "markdown",
   "metadata": {},
   "source": [
    "## Discussion and Conclusion\n",
    "In conclusion, the K-Nearest Neighbors regression model was selected for predicting credit ratings due to its ability to capture non-linear relationships between features. The model was optimized through hyperparameter tuning, including selecting the best number of neighbors, distance metrics, and weighting strategies. While the model achieved a reasonable RMSE, further improvements could enhance its predictive accuracy. Rather than discarding the model, adjustments to feature engineering, handling of categorical variables, and additional data preprocessing could improve overall performance.\n",
    "\n",
    "### Key Limitations\n",
    "One limitation of this model is its tendency to underperform for higher credit ratings, as observed in the actual vs. predicted scatter plot. Predictions for lower credit ratings tend to be more accurate, whereas higher credit scores exhibit greater variability and error. This issue could be due to the imbalance in the dataset, where lower credit ratings are more common, leading the model to favor them during prediction. Additionally, while categorical variables were one-hot encoded, the presence of unseen categories in the test or production dataset introduced potential challenges, as indicated by warning messages about unknown categories being encoded as zeros. This could affect the model's generalizability when applied to new data.\n",
    "\n",
    "### Potential Risks and Adjustments\n",
    "If implemented in its current state, the model may produce suboptimal predictions for individuals with higher credit ratings, which could lead to biased decision-making for financial institutions relying on these scores. Inaccurate predictions could result in incorrect risk assessments, potentially affecting loan approvals or credit limits. Additionally, the reliance on income as a primary predictor introduces potential concerns about overfitting, as income is strongly correlated with credit rating. While removing income could improve the model’s generalizability, it would require identifying additional relevant features that contribute meaningfully to credit rating predictions. To mitigate these risks, handling unseen categories in categorical features and refining feature selection should be prioritized.\n",
    "\n",
    "### Improvements Needed for Practical Use\n",
    "To improve the model’s effectiveness for real-world applications, several enhancements should be considered:\n",
    "\n",
    "1. Refining categorical feature handling by using alternative encoding strategies or ensuring unseen categories are appropriately processed during inference.\n",
    "2. Exploring additional predictive features, such as debt-to-income ratio or past credit history, to reduce reliance on income as the dominant predictor.\n",
    "3. Adjusting hyperparameters, such as testing different weighting strategies or expanding the range of distance metrics, to improve the model’s accuracy for higher credit ratings.\n",
    "4. Addressing dataset imbalances by applying resampling techniques or weighting strategies that provide better representation across different credit rating ranges.\n",
    "\n",
    "### Conclusion\n",
    "The KNN regression model provides a solid foundation for predicting credit ratings and demonstrates the ability to capture key patterns in the data. However, its performance is limited by imbalances in the dataset and variability in predictions for higher credit ratings. By refining feature selection, improving categorical variable handling, and adjusting hyperparameters, the model can become more robust and reliable. With these improvements, the model could serve as a valuable tool for financial institutions in assessing creditworthiness and reducing dependency on costly external credit rating agencies."
   ]
  }
 ],
 "metadata": {
  "kernelspec": {
   "display_name": ".venv",
   "language": "python",
   "name": "python3"
  },
  "language_info": {
   "codemirror_mode": {
    "name": "ipython",
    "version": 3
   },
   "file_extension": ".py",
   "mimetype": "text/x-python",
   "name": "python",
   "nbconvert_exporter": "python",
   "pygments_lexer": "ipython3",
   "version": "3.12.8"
  }
 },
 "nbformat": 4,
 "nbformat_minor": 2
}
